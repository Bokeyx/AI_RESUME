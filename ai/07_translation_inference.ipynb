{
 "cells": [
  {
   "cell_type": "code",
   "execution_count": 1,
   "id": "aa950585",
   "metadata": {},
   "outputs": [
    {
     "name": "stderr",
     "output_type": "stream",
     "text": [
      "[nltk_data] Downloading package punkt to\n",
      "[nltk_data]     C:\\Users\\Administrator\\AppData\\Roaming\\nltk_data...\n",
      "[nltk_data]   Package punkt is already up-to-date!\n",
      "[nltk_data] Downloading package stopwords to\n",
      "[nltk_data]     C:\\Users\\Administrator\\AppData\\Roaming\\nltk_data...\n",
      "[nltk_data]   Package stopwords is already up-to-date!\n",
      "[nltk_data] Downloading package wordnet to\n",
      "[nltk_data]     C:\\Users\\Administrator\\AppData\\Roaming\\nltk_data...\n",
      "[nltk_data]   Package wordnet is already up-to-date!\n"
     ]
    },
    {
     "data": {
      "text/plain": [
       "True"
      ]
     },
     "execution_count": 1,
     "metadata": {},
     "output_type": "execute_result"
    }
   ],
   "source": [
    "from googletrans import Translator\n",
    "import joblib\n",
    "import re, unicodedata\n",
    "from nltk.tokenize import word_tokenize\n",
    "from nltk.stem import WordNetLemmatizer\n",
    "from nltk.corpus import stopwords\n",
    "import nltk\n",
    "\n",
    "nltk.download('punkt')\n",
    "nltk.download('stopwords')\n",
    "nltk.download('wordnet')"
   ]
  },
  {
   "cell_type": "code",
   "execution_count": 2,
   "id": "c07ade0b",
   "metadata": {},
   "outputs": [],
   "source": [
    "# 불러오기\n",
    "model = joblib.load('./model/knn_model.pkl')\n",
    "vectorizer = joblib.load('./model/tfidf_vectorizer.pkl')\n",
    "label_map = joblib.load('./model/label_map.pkl')\n",
    "label_map_ko = {\n",
    "    \"Data Science\": \"데이터 사이언스\",\n",
    "    \"Web Designing\": \"웹 디자인\",\n",
    "    \"HR\": \"인사\",\n",
    "    \"Advocate\": \"법조인\",\n",
    "    \"Health and fitness\": \"건강 및 피트니스\",\n",
    "    \"Java Developer\": \"자바 개발자\",\n",
    "    \"Python Developer\": \"파이썬 개발자\",\n",
    "    \"DevOps Engineer\": \"데브옵스 엔지니어\",\n",
    "    \"Business Analyst\": \"비즈니스 분석가\",\n",
    "    \"Electrical Engineering\": \"전기공학\",\n",
    "    \"Testing\": \"테스터\",\n",
    "    \"Blockchain\": \"블록체인 개발자\"\n",
    "}"
   ]
  },
  {
   "cell_type": "code",
   "execution_count": 3,
   "id": "c66738f4",
   "metadata": {},
   "outputs": [],
   "source": [
    "# 전처리 함수\n",
    "stop_words = set(stopwords.words('english'))\n",
    "lemmatizer = WordNetLemmatizer()\n",
    "\n",
    "def preprocess_text(text):\n",
    "    text = unicodedata.normalize('NFKD', text).encode('ascii', 'ignore').decode('ascii')\n",
    "    text = text.lower()\n",
    "    text = re.sub(r'[^a-z0-9\\s]', ' ', text)\n",
    "    text = re.sub(r'\\s+', ' ', text).strip()\n",
    "    tokens = word_tokenize(text)\n",
    "    tokens = [lemmatizer.lemmatize(w) for w in tokens if w not in stop_words and len(w) > 2]\n",
    "    return ' '.join(tokens)"
   ]
  },
  {
   "cell_type": "code",
   "execution_count": null,
   "id": "7be7b1c3",
   "metadata": {},
   "outputs": [],
   "source": [
    "# 번역기\n",
    "translator = Translator()\n",
    "\n",
    "def translate_and_predict(text_ko):\n",
    "    translated = translator.translate(text_ko, src='ko', dest='en').text\n",
    "    print(\"번역된 텍스트:\", translated)\n",
    "\n",
    "    cleaned = preprocess_text(translated)\n",
    "    vec = vectorizer.transform([cleaned])\n",
    "    pred_idx = model.predict(vec)[0]\n",
    "    pred_eng = label_map[pred_idx]\n",
    "    pred_kor = label_map_ko.get(pred_eng, pred_eng)\n",
    "\n",
    "    return {\n",
    "        \"original_korean\": text_ko,\n",
    "        \"translated_english\": translated,\n",
    "        \"predicted_category_en\": pred_eng,\n",
    "        \"predicted_category_ko\": pred_kor\n",
    "    }"
   ]
  },
  {
   "cell_type": "code",
   "execution_count": 6,
   "id": "4c1c67a1",
   "metadata": {},
   "outputs": [
    {
     "name": "stdout",
     "output_type": "stream",
     "text": [
      "✅ 번역된 텍스트: I am good at analysis of Python and data and have experience in machine learning projects.\n",
      "{'original_korean': '저는 파이썬과 데이터 분석에 능숙하며 머신러닝 프로젝트 경험이 있습니다.', 'translated_english': 'I am good at analysis of Python and data and have experience in machine learning projects.', 'predicted_category_en': 'Data Science', 'predicted_category_ko': '데이터 사이언스'}\n"
     ]
    }
   ],
   "source": [
    "# 예시 실행\n",
    "result = translate_and_predict(\"저는 파이썬과 데이터 분석에 능숙하며 머신러닝 프로젝트 경험이 있습니다.\")\n",
    "print(result)\n"
   ]
  },
  {
   "cell_type": "code",
   "execution_count": 8,
   "id": "1f696460",
   "metadata": {},
   "outputs": [
    {
     "name": "stdout",
     "output_type": "stream",
     "text": [
      "✅ label_map_ko.pkl 저장 완료!\n"
     ]
    }
   ],
   "source": [
    "import joblib\n",
    "\n",
    "# 기존 label_map 로드\n",
    "label_map = joblib.load('./model/label_map.pkl')\n",
    "\n",
    "# 한글 라벨 정의 (추가 필요 시 이곳에서 계속 확장)\n",
    "label_korean = {\n",
    "    \"Data Science\": \"데이터 사이언스\",\n",
    "    \"Web Designing\": \"웹 디자인\",\n",
    "    \"HR\": \"인사\",\n",
    "    \"Advocate\": \"법조인\",\n",
    "    \"Health and fitness\": \"건강 및 피트니스\",\n",
    "    \"Java Developer\": \"자바 개발자\",\n",
    "    \"Python Developer\": \"파이썬 개발자\",\n",
    "    \"DevOps Engineer\": \"데브옵스 엔지니어\",\n",
    "    \"Business Analyst\": \"비즈니스 분석가\",\n",
    "    \"Electrical Engineering\": \"전기공학\",\n",
    "    \"Testing\": \"테스트 엔지니어\",\n",
    "    \"Blockchain\": \"블록체인 개발자\",\n",
    "    \"Arts\": \"예술 분야\",\n",
    "    \"Operations Manager\": \"운영 관리자\",\n",
    "    \"Mechanical Engineering\": \"기계공학\",\n",
    "    \"Sales\": \"영업\",\n",
    "    \"Digital Marketing\": \"디지털 마케팅\",\n",
    "    \"Civil Engineer\": \"토목 엔지니어\",\n",
    "    \"Automobile\": \"자동차\",\n",
    "    \"Networking\": \"네트워크\",\n",
    "    \"SAP Developer\": \"SAP 개발자\",\n",
    "    \"DotNet Developer\": \".NET 개발자\",\n",
    "    \"Hadoop\": \"하둡\",\n",
    "    \"ETL Developer\": \"ETL 개발자\",\n",
    "    \"Database\": \"데이터베이스\"\n",
    "}\n",
    "\n",
    "# 안전하게 매핑\n",
    "label_map_ko = {idx: label_korean.get(eng, eng) for idx, eng in label_map.items()}\n",
    "\n",
    "# 저장\n",
    "joblib.dump(label_map_ko, './model/label_map_ko.pkl')\n",
    "print(\"✅ label_map_ko.pkl 저장 완료!\")\n"
   ]
  }
 ],
 "metadata": {
  "kernelspec": {
   "display_name": "pk_dl_202503",
   "language": "python",
   "name": "python3"
  },
  "language_info": {
   "codemirror_mode": {
    "name": "ipython",
    "version": 3
   },
   "file_extension": ".py",
   "mimetype": "text/x-python",
   "name": "python",
   "nbconvert_exporter": "python",
   "pygments_lexer": "ipython3",
   "version": "3.9.21"
  }
 },
 "nbformat": 4,
 "nbformat_minor": 5
}
